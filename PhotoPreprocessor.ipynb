{
 "cells": [
  {
   "cell_type": "code",
   "execution_count": 1,
   "metadata": {},
   "outputs": [],
   "source": [
    "import cv2\n",
    "import numpy as np\n",
    "import matplotlib.pyplot as plt\n",
    "from skimage.filters import threshold_local\n",
    "from ipynb.fs.full.PhotoScaner import *\n",
    "import imutils"
   ]
  },
  {
   "cell_type": "code",
   "execution_count": 2,
   "metadata": {},
   "outputs": [],
   "source": [
    "def binarization_inv(img):\n",
    "    if(len(img.shape)>2):\n",
    "        gray = cv2.cvtColor(img.copy(), cv2.COLOR_BGR2GRAY)\n",
    "    else:\n",
    "        gray = img\n",
    "    local = threshold_local(gray, 101, offset=25)\n",
    "    binary_local = gray > local\n",
    "    binary_local = binary_local.astype(\"uint8\")*255\n",
    "    binary_local = cv2.bitwise_not(binary_local)\n",
    "    return binary_local"
   ]
  },
  {
   "cell_type": "code",
   "execution_count": 3,
   "metadata": {},
   "outputs": [],
   "source": [
    "def get_lines_for_roi(orig_im, roi):\n",
    "    binary_local = binarization_inv(roi)\n",
    "    (ctrs, _) = cv2.findContours(binary_local, cv2.RETR_EXTERNAL, cv2.CHAIN_APPROX_SIMPLE)\n",
    "    sorted_ctrs = sorted(ctrs, key=lambda ctr: cv2.boundingRect(ctr)[0])\n",
    "    return sorted_ctrs"
   ]
  },
  {
   "cell_type": "code",
   "execution_count": 4,
   "metadata": {},
   "outputs": [],
   "source": [
    "def count_avg(line):\n",
    "    line_y_sum = 0\n",
    "    count = 0\n",
    "    for word in line:\n",
    "        y = word[1]\n",
    "        h = word[3]\n",
    "        line_y_sum+=(y+h/2)\n",
    "        count+=1\n",
    "    return line_y_sum/count"
   ]
  },
  {
   "cell_type": "code",
   "execution_count": 5,
   "metadata": {},
   "outputs": [],
   "source": [
    "def connect_in_lines(sorted_bounds):\n",
    "    lines = []\n",
    "    line = []\n",
    "    line_y_avg = 0\n",
    "    count =0\n",
    "    for bound in sorted_bounds:\n",
    "        y = bound[1]\n",
    "        h = bound[3]\n",
    "        if(line_y_avg>=(y+h/2)-30 or line_y_avg==0):\n",
    "            line.append(bound)\n",
    "        else:\n",
    "            line = sorted(line,key = lambda word:word[0])\n",
    "            lines.append(line)\n",
    "            line = []\n",
    "            count+=1\n",
    "            line.append(bound)\n",
    "        line_y_avg = count_avg(line)\n",
    "    lines.append(line)\n",
    "    return lines"
   ]
  },
  {
   "cell_type": "code",
   "execution_count": 6,
   "metadata": {},
   "outputs": [],
   "source": [
    "def get_avg(ctrs):\n",
    "    avg_h = 0\n",
    "    count = 0\n",
    "    for ctr in ctrs:\n",
    "        h=cv2.boundingRect(ctr)[3]\n",
    "        avg_h=h\n",
    "        count+=1\n",
    "    if(count!=0):\n",
    "        avg_h/=count\n",
    "    return avg_h"
   ]
  },
  {
   "cell_type": "code",
   "execution_count": 7,
   "metadata": {},
   "outputs": [],
   "source": [
    "def delete_overlaped_contours(j,contours,current_contour):\n",
    "    x, y, w, h = cv2.boundingRect(current_contour)\n",
    "    while(j<len(contours)):\n",
    "            x1, y1, w1, h1 = cv2.boundingRect(contours[j])\n",
    "            if(y<=y1+h1/2 and (y+h)>=(y1+h1/2)):\n",
    "                if(x<=x1 and (x+w)>=(x1+w1)):\n",
    "                    del(contours[j])\n",
    "                    j=j-1\n",
    "            j+=1"
   ]
  },
  {
   "cell_type": "code",
   "execution_count": 8,
   "metadata": {},
   "outputs": [],
   "source": [
    "def get_internal_boundings(contours,img,i=0):\n",
    "    internal_boundings = []\n",
    "    while(i<len(contours)):\n",
    "        x, y, w, h = cv2.boundingRect(contours[i])\n",
    "        if(h<6 or w<6):\n",
    "            del(contours[i])\n",
    "            continue\n",
    "        if(h>64):\n",
    "            internal_ctrs = get_lines_for_roi(img, img[y:y+h, x:x+w])\n",
    "            for ctr in internal_ctrs:\n",
    "                x2,y2,w2,h2 = cv2.boundingRect(ctr)\n",
    "                internal_boundings += [[x2+x,y2+y,w2,h2]]\n",
    "            del(contours[i])\n",
    "            continue\n",
    "        delete_overlaped_contours(i+1,contours,contours[i])\n",
    "        i+=1\n",
    "    return internal_boundings"
   ]
  },
  {
   "cell_type": "code",
   "execution_count": 9,
   "metadata": {},
   "outputs": [],
   "source": [
    "def filter_contours(internal_boundings, sorted_ctrs, i=0):\n",
    "    while(i<len(internal_boundings)):\n",
    "        x, y, w, h = internal_boundings[i]\n",
    "        j = 0\n",
    "        is_deleted = False\n",
    "        if(h<6 or w<6):\n",
    "            del(internal_boundings[i])\n",
    "            continue\n",
    "        while(j<len(sorted_ctrs)):\n",
    "            x1,y1,w1,h1=cv2.boundingRect(sorted_ctrs[j])\n",
    "            if((y1<y+h and y1+h1>=y+h) or (y1<y+h/1.75 and y1+h1>=y+h/1.75)):\n",
    "                if((x1<=x and (x1+w1)>=(x+w)) or (x1<=x+w/1.75 and (x1+w1)>=(x+w/1.75))):\n",
    "                    del(internal_boundings[i])\n",
    "                    is_deleted = True\n",
    "                    break\n",
    "            if((y<y1+h1 and y+h>=y1+h1) or (y<y1+h1/2 and y+h>=y1+h1/2)):\n",
    "                if((x<=x1 and (x+w)>=(x1+w1)) or (x<=x1+w1/1.75 and (x+w)>=(x1+w1/1.75))):\n",
    "                    del(sorted_ctrs[j])\n",
    "                    continue\n",
    "            j+=1\n",
    "        if(is_deleted):\n",
    "            continue\n",
    "        q = i+1\n",
    "        while(q<len(internal_boundings)):\n",
    "            x1, y1, w1, h1 = internal_boundings[q]\n",
    "            if((y<=y1+h1 and (y+h)>=(y1+h1)) or (y<=y1+h1/1.75 and (y+h)>=(y1+h1/1.75))):\n",
    "                if((x<=x1 and (x+w)>=(x1+w1)) or (x<=x1+w1/1.75 and (x+w)>=(x1+w1/1.75))):\n",
    "                    del(internal_boundings[q])\n",
    "                    q=q-1\n",
    "            q+=1\n",
    "        i+=1"
   ]
  },
  {
   "cell_type": "code",
   "execution_count": 10,
   "metadata": {},
   "outputs": [],
   "source": [
    "def merge_boundings(contours,internal_boundings,i=0):\n",
    "    while(i<len(contours)):\n",
    "        x, y, w, h = cv2.boundingRect(contours[i])\n",
    "        internal_boundings+=[[x,y,w,h]]\n",
    "        i+=1"
   ]
  },
  {
   "cell_type": "code",
   "execution_count": 11,
   "metadata": {},
   "outputs": [],
   "source": [
    "def preprocess(IMG_PATH):\n",
    "    result = []\n",
    "    transformed = final_transform(IMG_PATH)\n",
    "    edged = edge_detection(transformed.copy())\n",
    "    binary = cv2.adaptiveThreshold(edged, 255,cv2.ADAPTIVE_THRESH_GAUSSIAN_C,\\\n",
    "                cv2.THRESH_BINARY_INV,11,2)\n",
    "    ctrs, hier = cv2.findContours(binary, cv2.RETR_LIST, cv2.CHAIN_APPROX_SIMPLE)\n",
    "    sorted_ctrs = sorted(ctrs, key=lambda ctr: cv2.boundingRect(ctr)[1])\n",
    "    internal_boundings = get_internal_boundings(sorted_ctrs, transformed)\n",
    "    internal_boundings = sorted(internal_boundings, key=lambda bound: bound[1])\n",
    "    filter_contours(internal_boundings, sorted_ctrs)\n",
    "    merge_boundings(sorted_ctrs, internal_boundings)\n",
    "    internal_boundings = sorted(internal_boundings, key=lambda bound: bound[1])      \n",
    "    return (connect_in_lines(internal_boundings),transformed)"
   ]
  }
 ],
 "metadata": {
  "kernelspec": {
   "display_name": "Python 3",
   "language": "python",
   "name": "python3"
  },
  "language_info": {
   "codemirror_mode": {
    "name": "ipython",
    "version": 3
   },
   "file_extension": ".py",
   "mimetype": "text/x-python",
   "name": "python",
   "nbconvert_exporter": "python",
   "pygments_lexer": "ipython3",
   "version": "3.7.6"
  }
 },
 "nbformat": 4,
 "nbformat_minor": 4
}
