{
 "cells": [
  {
   "cell_type": "code",
   "execution_count": 1,
   "metadata": {},
   "outputs": [],
   "source": [
    "import cv2\n",
    "import numpy as np"
   ]
  },
  {
   "cell_type": "code",
   "execution_count": 2,
   "metadata": {},
   "outputs": [],
   "source": [
    "def order_points(pts):\n",
    "    #Создаем заглушку\n",
    "    rect = np.zeros((4, 2), dtype = \"float32\")\n",
    "    pts_sum = pts.sum(axis=1)\n",
    "\n",
    "    #rect[0] - левый верхний угол, rect[2] - правый нижний\n",
    "    rect[0] = pts[np.argmin(pts_sum)]\n",
    "    rect[2] = pts[np.argmax(pts_sum)]\n",
    "\n",
    "    pts_diff = np.diff(pts, axis = 1)\n",
    "\n",
    "    #rect[1] - правый верхний угол, rect[3] - левый нижний\n",
    "    rect[1]= pts[np.argmin(pts_diff)]\n",
    "    rect[3]= pts[np.argmax(pts_diff)]\n",
    "\n",
    "    return rect\n",
    "\n"
   ]
  },
  {
   "cell_type": "code",
   "execution_count": 3,
   "metadata": {},
   "outputs": [],
   "source": [
    "def four_point_transform(orig_img, img_points):\n",
    "    #Разбиваем четырехугольник на точки\n",
    "    tl,tr,br,bl = img_points\n",
    "    #Рассчет длинны векторов ширины и высоты каждой из сторон 4-х угольника\n",
    "    top_width = np.sqrt(((tr[0] - tl[0]) ** 2) + ((tr[1] - tl[1]) ** 2))\n",
    "    bottom_width = np.sqrt(((br[0] - bl[0]) ** 2) + ((br[1] - bl[1]) ** 2))\n",
    "    left_height = np.sqrt(((tr[0] - br[0]) ** 2) + ((tr[1] - br[1]) ** 2))\n",
    "    right_height = np.sqrt(((tl[0] - bl[0]) ** 2) + ((tl[1] - bl[1]) ** 2))\n",
    "\n",
    "    #Берем максимальную высоту и ширину для дальнейшего преобразования изображения\n",
    "    max_width = max(int(top_width), int(bottom_width))\n",
    "    max_height = max(int(left_height), int(right_height))\n",
    "\n",
    "    #Массив с координатами точек в порядке: левый верхний угол, правый верхний, правый нижний, левый нижний.\n",
    "    #Отправная точка - левый верхний угол\n",
    "    dest_matrix = np.array([\n",
    "    [0, 0],\n",
    "    [max_width - 1, 0],\n",
    "    [max_width - 1, max_height - 1],\n",
    "    [0, max_height - 1]], dtype = \"float32\")\n",
    "\n",
    "    #Собираем матрицу трансформации\n",
    "    transf_matrix = cv2.getPerspectiveTransform(img_points, dest_matrix)\n",
    "\n",
    "    #Применяем трансформацию\n",
    "    transformed_img = cv2.warpPerspective(orig_img, transf_matrix, (max_width, max_height))\n",
    "\n",
    "    #Возвращаем трансформированное изображение\n",
    "    return transformed_img"
   ]
  },
  {
   "cell_type": "code",
   "execution_count": null,
   "metadata": {},
   "outputs": [],
   "source": []
  }
 ],
 "metadata": {
  "kernelspec": {
   "display_name": "Python 3",
   "language": "python",
   "name": "python3"
  },
  "language_info": {
   "codemirror_mode": {
    "name": "ipython",
    "version": 3
   },
   "file_extension": ".py",
   "mimetype": "text/x-python",
   "name": "python",
   "nbconvert_exporter": "python",
   "pygments_lexer": "ipython3",
   "version": "3.7.6"
  }
 },
 "nbformat": 4,
 "nbformat_minor": 4
}
