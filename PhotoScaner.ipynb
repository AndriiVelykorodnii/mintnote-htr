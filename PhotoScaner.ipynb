{
 "cells": [
  {
   "cell_type": "code",
   "execution_count": 1,
   "metadata": {},
   "outputs": [],
   "source": [
    "import cv2\n",
    "import numpy as np\n",
    "import matplotlib.pyplot as plt\n",
    "from skimage.filters import threshold_local\n",
    "from ipynb.fs.full.transform import *\n",
    "import imutils"
   ]
  },
  {
   "cell_type": "code",
   "execution_count": 2,
   "metadata": {},
   "outputs": [],
   "source": [
    "def edge_detection(img):\n",
    "    if(len(img.shape)>2):\n",
    "        gray = cv2.cvtColor(img, cv2.COLOR_BGR2GRAY)\n",
    "    else:\n",
    "        gray = img\n",
    "    edged = cv2.Canny(gray, 230, 255)\n",
    "    return edged"
   ]
  },
  {
   "cell_type": "code",
   "execution_count": 3,
   "metadata": {},
   "outputs": [],
   "source": [
    "def get_contours(edged_img):\n",
    "    gray = cv2.cvtColor(edged_img, cv2.COLOR_BGR2GRAY)\n",
    "    (cnts, _) = cv2.findContours(gray.copy(), cv2.RETR_LIST, cv2.CHAIN_APPROX_SIMPLE)\n",
    "    cnts = sorted(cnts, key = cv2.contourArea, reverse=True)\n",
    "    for contour in cnts:\n",
    "        perimetr = cv2.arcLength(contour, True)\n",
    "        approx = cv2.approxPolyDP(contour, 0.02*perimetr, True)\n",
    "        if(len(approx)==4):\n",
    "            return approx"
   ]
  },
  {
   "cell_type": "code",
   "execution_count": 4,
   "metadata": {},
   "outputs": [],
   "source": [
    "def perspective_transform_apl(orig,contours, ratio):\n",
    "    ordered_pts = order_points(contours)\n",
    "    transformed_img = four_point_transform(orig, ordered_pts*ratio)\n",
    "    return transformed_img"
   ]
  },
  {
   "cell_type": "code",
   "execution_count": 5,
   "metadata": {},
   "outputs": [],
   "source": [
    "def final_transform(IMG_PATH):\n",
    "    image = cv2.imread(IMG_PATH)\n",
    "    lower_white = np.array([100,100,100])\n",
    "    upper_white = np.array([255,255,255])\n",
    "    mask = cv2.inRange(image, lower_white, upper_white)\n",
    "    img_white_only = cv2.bitwise_and(image,image, mask= mask)\n",
    "    ratio = 1 \n",
    "    orig = image.copy()\n",
    "    contours = get_contours(img_white_only)\n",
    "    awd = cv2.drawContours(image, [contours], -1, (0,255,0),2)\n",
    "    \n",
    "    transformed = perspective_transform_apl(orig, contours.reshape(4,2), ratio)\n",
    "    return transformed"
   ]
  },
  {
   "cell_type": "code",
   "execution_count": null,
   "metadata": {
    "scrolled": true
   },
   "outputs": [],
   "source": []
  },
  {
   "cell_type": "code",
   "execution_count": null,
   "metadata": {},
   "outputs": [],
   "source": []
  }
 ],
 "metadata": {
  "kernelspec": {
   "display_name": "Python 3",
   "language": "python",
   "name": "python3"
  },
  "language_info": {
   "codemirror_mode": {
    "name": "ipython",
    "version": 3
   },
   "file_extension": ".py",
   "mimetype": "text/x-python",
   "name": "python",
   "nbconvert_exporter": "python",
   "pygments_lexer": "ipython3",
   "version": "3.7.6"
  }
 },
 "nbformat": 4,
 "nbformat_minor": 4
}
